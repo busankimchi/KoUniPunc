{
 "cells": [
  {
   "cell_type": "code",
   "execution_count": 1,
   "metadata": {},
   "outputs": [],
   "source": [
    "from typing import List\n",
    "import jsonlines\n",
    "\n",
    "from tqdm.notebook import tqdm\n",
    "import numpy as np\n",
    "\n",
    "import torchaudio\n",
    "\n",
    "DATA_BASE_PATH = \"/mnt/storage/186.복지 분야 콜센터 상담데이터\"\n",
    "\n",
    "TRAIN_PATH = f\"{DATA_BASE_PATH}/train.jsonl\"\n",
    "DEV_PATH = f\"{DATA_BASE_PATH}/dev.jsonl\""
   ]
  },
  {
   "cell_type": "code",
   "execution_count": 10,
   "metadata": {},
   "outputs": [],
   "source": [
    "def get_wav_lens(wav_path: str):\n",
    "    data, sample_rate = torchaudio.load(wav_path)\n",
    "    \n",
    "    len_data = data.size()[1]    \n",
    "    t = len_data / sample_rate\n",
    "    \n",
    "    return t, len_data\n",
    "\n",
    "\n",
    "def walk(file_path: str):\n",
    "    max_time, max_len = 0, 0\n",
    "    \n",
    "    with jsonlines.open(file_path) as f:\n",
    "        for i, line in enumerate(f.iter()):\n",
    "            wav_path = line[\"audio_path\"]\n",
    "            t, len_data = get_wav_lens(wav_path)\n",
    "            \n",
    "            max_time = np.maximum(max_time, t)\n",
    "            max_len = np.maximum(max_len, len_data)\n",
    "            \n",
    "            if i > 0 and i % 1000 == 0:\n",
    "                print(f\"{i} :: {max_time}\\t{max_len}\")\n",
    "            \n",
    "    return max_time, max_len"
   ]
  },
  {
   "cell_type": "code",
   "execution_count": null,
   "metadata": {},
   "outputs": [],
   "source": [
    "train_max_time, train_max_len = walk(TRAIN_PATH)\n",
    "print(f\"TRAIN :: {train_max_time}, {train_max_len}\")\n",
    "\n",
    "dev_max_time, dev_max_len = walk(DEV_PATH)\n",
    "print(f\"DEV :: {dev_max_time}, {dev_max_len}\")\n"
   ]
  },
  {
   "cell_type": "code",
   "execution_count": 6,
   "metadata": {},
   "outputs": [],
   "source": [
    "def walk2(file_path: str):\n",
    "    max_text_len, max_label_len = 0, 0\n",
    "    max_text_len_idx, max_label_len_idx = 0, 0\n",
    "    \n",
    "    with jsonlines.open(file_path) as f:\n",
    "        for i, line in enumerate(f.iter()):\n",
    "            text, label = line[\"text\"], line[\"label\"]\n",
    "            \n",
    "            if max_text_len < len(text):\n",
    "                max_text_len = len(text)\n",
    "                max_text_len_idx = i\n",
    "                \n",
    "            if max_label_len < len(label):\n",
    "                max_label_len = len(label)\n",
    "                max_label_len_idx = i\n",
    "            \n",
    "            # if i > 0 and i % 1000 == 0:\n",
    "            #     print(f\"{i} :: {max_text_len}\\t{max_label_len}\")\n",
    "            \n",
    "    return max_text_len, max_text_len_idx, max_label_len, max_label_len_idx"
   ]
  },
  {
   "cell_type": "code",
   "execution_count": 7,
   "metadata": {},
   "outputs": [
    {
     "name": "stdout",
     "output_type": "stream",
     "text": [
      "TRAIN :: (124, 104181, 87, 104181)\n",
      "DEV :: (93, 3312, 63, 22110)\n"
     ]
    }
   ],
   "source": [
    "train_res = walk2(TRAIN_PATH)\n",
    "print(f\"TRAIN :: {train_res}\")\n",
    "\n",
    "dev_res = walk2(DEV_PATH)\n",
    "print(f\"DEV :: {dev_res}\")\n"
   ]
  }
 ],
 "metadata": {
  "kernelspec": {
   "display_name": "Python 3.9.15 ('punc-venv')",
   "language": "python",
   "name": "python3"
  },
  "language_info": {
   "codemirror_mode": {
    "name": "ipython",
    "version": 3
   },
   "file_extension": ".py",
   "mimetype": "text/x-python",
   "name": "python",
   "nbconvert_exporter": "python",
   "pygments_lexer": "ipython3",
   "version": "3.9.15"
  },
  "orig_nbformat": 4,
  "vscode": {
   "interpreter": {
    "hash": "776d9bf584e295cba365705fff9c232e1932a37dd74fa6ae825eea6f5742f2df"
   }
  }
 },
 "nbformat": 4,
 "nbformat_minor": 2
}
